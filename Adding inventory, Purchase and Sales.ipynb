{
 "cells": [
  {
   "cell_type": "code",
   "execution_count": 69,
   "id": "86bca989",
   "metadata": {},
   "outputs": [],
   "source": [
    "record = { 2101 : {\"Name\": \"Cadbury\" , \"Price\": 50 , \"Qty\" : 20,\"Type\": \"Chocolate\" , \"ExpiryDate\": \"31-dec-21\"},\n",
    "           2102 : {\"Name\": \"Nestle\" , \"Price\": 30 , \"Qty\" : 25 ,\"Type\": \"Chocolate\" , \"ExpiryDate\": \"31-dec-21\"},\n",
    "           2103 : {\"Name\": \"Munch\" , \"Price\": 10 , \"Qty\" : 30 ,\"Type\": \"Chocolate\" , \"ExpiryDate\": \"31-dec-21\"},\n",
    "           2104 : {\"Name\": \"Milkybar\" , \"Price\": 20 , \"Qty\" : 20 ,\"Type\": \"Chocolate\" , \"ExpiryDate\": \"31-dec-21\"},\n",
    "           2105 : {\"Name\": \"Dark Chocolate\" , \"Price\": 50 , \"Qty\" : 10 ,\"Type\": \"CHocolate\" , \"ExpiryDate\": \"31-dec-21\"},\n",
    "           2106 : {\"Name\": \"Kitkat\" , \"Price\": 10 , \"Qty\" : 30 ,\"Type\": \"Chocolate\" , \"ExpiryDate\": \"31-dec-21\"},\n",
    "           2107 : {\"Name\": \"Snickers\" , \"Price\": 20 , \"Qty\" : 50 ,\"Type\": \"Chocolate\" , \"ExpiryDate\": \"31-dec-21\"},\n",
    "           2108 : {\"Name\": \"Ferrero\" , \"Price\": 45 , \"Qty\" : 15 ,\"Type\": \"Chocolate\" , \"ExpiryDate\": \"31-dec-21\"},\n",
    "           2109 : {\"Name\": \"Nutties\" , \"Price\": 10 , \"Qty\" : 30 ,\"Type\": \"Chocolate\" , \"ExpiryDate\": \"31-dec-21\"},\n",
    "           2110 : {\"Name\": \"Mars\" , \"Price\": 20 , \"Qty\" : 35,\"Type\": \"Chocolate\" , \"ExpiryDate\": \"31-dec-21\"},\n",
    "           2111 : {\"Name\": \"Thumsup\" , \"Price\": 15 , \"Qty\" : 45 ,\"Type\": \"Soft Drink\" , \"ExpiryDate\": \"15-Oct-21\"},\n",
    "           2112 : {\"Name\": \"Maaza\" , \"Price\": 16, \"Qty\" : 40 ,\"Type\": \"Soft Drink\" , \"ExpiryDate\": \"15-Oct-21\"},\n",
    "           2113 : {\"Name\": \"Sprite\" , \"Price\": 12 , \"Qty\" : 15 ,\"Type\": \"Soft Drink\" , \"ExpiryDate\": \"15-Oct-21\"},\n",
    "           2114 : {\"Name\": \"Limca\" , \"Price\": 12 , \"Qty\" : 10 ,\"Type\": \"Soft Drink\" , \"ExpiryDate\": \"15-Oct-21\"},\n",
    "           2115 : {\"Name\": \"Pepsi\" , \"Price\": 15 , \"Qty\" : 30 ,\"Type\": \"Soft Drink\" , \"ExpiryDate\": \"15-Oct-21\"},\n",
    "           2116 : {\"Name\": \"7UP\" , \"Price\": 12 , \"Qty\" : 20,\"Type\": \"Soft Drink\" , \"ExpiryDate\": \"15-Oct-21\"},\n",
    "           2117 : {\"Name\": \"Mirinda\" , \"Price\": 10 , \"Qty\" : 10 ,\"Type\": \"Soft Drink\" , \"ExpiryDate\": \"15-Oct-21\"},\n",
    "           2118 : {\"Name\": \"Coca Cola\" , \"Price\": 15 , \"Qty\" : 30 ,\"Type\": \"Soft Drink\" , \"ExpiryDate\": \"15-Oct-21\"},\n",
    "           2119 : {\"Name\": \"Parle G\" , \"Price\": 5 , \"Qty\" : 40 ,\"Type\": \"Biscuit\" , \"ExpiryDate\": \"30-Sep-22\"},\n",
    "           2120 : {\"Name\": \"Britania\" , \"Price\": 10 , \"Qty\" : 30 ,\"Type\": \"Biscuit\" , \"ExpiryDate\": \"30-Sep-22\"},\n",
    "           2121 : {\"Name\": \"Sun Feast\" , \"Price\": 10 , \"Qty\" : 20 ,\"Type\": \"Biscuit\" , \"ExpiryDate\": \"30-Sep-22\"},\n",
    "           2122 : {\"Name\": \"50-50\" , \"Price\": 5, \"Qty\" : 30,\"Type\": \"Biscuit\" , \"ExpiryDate\": \"30-Sep-22\"},\n",
    "           2123 : {\"Name\": \"Monaco\" , \"Price\": 5 , \"Qty\" : 10 ,\"Type\": \"Biscuit\" , \"ExpiryDate\": \"30-Sep-22\"},\n",
    "           2124 : {\"Name\": \"CrackJack\" , \"Price\": 5 , \"Qty\" : 25 ,\"Type\": \"Biscuit\" , \"ExpiryDate\": \"30-Sep-22\"},\n",
    "           2125 : {\"Name\": \"Lays\" , \"Price\": 10, \"Qty\" : 100 ,\"Type\": \"Chips\" , \"ExpiryDate\": \"31-dec-21\"},\n",
    "           2126 : {\"Name\": \"Bingo\" , \"Price\": 10 , \"Qty\" : 80 ,\"Type\": \"Chips\" , \"ExpiryDate\": \"31-Mar-22\"},\n",
    "           2127 : {\"Name\": \"Boost\" , \"Price\": 150 , \"Qty\" : 20 ,\"Type\": \"Energy Drink\" , \"ExpiryDate\": \"31-Mar-22\"},\n",
    "           2128 : {\"Name\": \"Horlicks\" , \"Price\": 160 , \"Qty\" : 20 ,\"Type\": \"Energy Drink\" , \"ExpiryDate\": \"31-Mar-22\"},\n",
    "           2129 : {\"Name\": \"Bournvita\" , \"Price\": 180 , \"Qty\" : 10,\"Type\": \"Energy Drink\" , \"ExpiryDate\": \"31-Mar-22\"},\n",
    "           2130 : {\"Name\": \"Complan\" , \"Price\": 120  , \"Qty\" : 20 ,\"Type\": \"Energy Drink\" , \"ExpiryDate\": \"31-Mar-22\"}}"
   ]
  },
  {
   "cell_type": "code",
   "execution_count": 70,
   "id": "e0f8b204",
   "metadata": {},
   "outputs": [
    {
     "data": {
      "text/plain": [
       "('Chocolate', 'Soft Drink', 'Chocolate', 'Soft Drink', 'Energy Drink')"
      ]
     },
     "execution_count": 70,
     "metadata": {},
     "output_type": "execute_result"
    }
   ],
   "source": [
    "record[2101]['Type'], record[2111]['Type'], record[2101]['Type'], record[2111]['Type'], record[2127]['Type']"
   ]
  },
  {
   "cell_type": "code",
   "execution_count": 71,
   "id": "e8c0b4a3",
   "metadata": {},
   "outputs": [
    {
     "data": {
      "text/plain": [
       "dict"
      ]
     },
     "execution_count": 71,
     "metadata": {},
     "output_type": "execute_result"
    }
   ],
   "source": [
    "type(record)"
   ]
  },
  {
   "cell_type": "code",
   "execution_count": 72,
   "id": "40c90d0d",
   "metadata": {},
   "outputs": [
    {
     "name": "stdout",
     "output_type": "stream",
     "text": [
      "Cadbury\n",
      "50\n",
      "20\n",
      "Chocolate\n",
      "31-dec-21\n"
     ]
    }
   ],
   "source": [
    "reg = 2101\n",
    "print(record[reg]['Name'])\n",
    "print(record[reg]['Price'])\n",
    "print(record[reg]['Qty'])\n",
    "print(record[reg]['Type'])\n",
    "print(record[reg]['ExpiryDate'])"
   ]
  },
  {
   "cell_type": "code",
   "execution_count": 73,
   "id": "b2fa9627",
   "metadata": {},
   "outputs": [
    {
     "data": {
      "text/plain": [
       "30"
      ]
     },
     "execution_count": 73,
     "metadata": {},
     "output_type": "execute_result"
    }
   ],
   "source": [
    "len(record)"
   ]
  },
  {
   "cell_type": "markdown",
   "id": "2dd8ad11",
   "metadata": {},
   "source": [
    "# Deleting items in record "
   ]
  },
  {
   "cell_type": "code",
   "execution_count": 74,
   "id": "8917f14b",
   "metadata": {},
   "outputs": [],
   "source": [
    "del record[2109]"
   ]
  },
  {
   "cell_type": "markdown",
   "id": "fcdf3323",
   "metadata": {},
   "source": [
    "# Json file"
   ]
  },
  {
   "cell_type": "code",
   "execution_count": 92,
   "id": "9488c565",
   "metadata": {},
   "outputs": [],
   "source": [
    "import json"
   ]
  },
  {
   "cell_type": "code",
   "execution_count": 93,
   "id": "688c34e1",
   "metadata": {},
   "outputs": [],
   "source": [
    "js = json.dumps(record)\n",
    "\n",
    "fd = open(\"record.json\",'w')\n",
    "fd.write(js)\n",
    "fd.close()"
   ]
  },
  {
   "cell_type": "code",
   "execution_count": 94,
   "id": "024f374a",
   "metadata": {},
   "outputs": [],
   "source": [
    "fd = open(\"record.json\",'r')\n",
    "r = fd.read()\n",
    "fd.close()\n",
    "\n",
    "record  = json.loads(r)"
   ]
  },
  {
   "cell_type": "code",
   "execution_count": 95,
   "id": "58040456",
   "metadata": {},
   "outputs": [
    {
     "data": {
      "text/plain": [
       "str"
      ]
     },
     "execution_count": 95,
     "metadata": {},
     "output_type": "execute_result"
    }
   ],
   "source": [
    "type(js)"
   ]
  },
  {
   "cell_type": "code",
   "execution_count": 96,
   "id": "860f62f0",
   "metadata": {},
   "outputs": [
    {
     "data": {
      "text/plain": [
       "str"
      ]
     },
     "execution_count": 96,
     "metadata": {},
     "output_type": "execute_result"
    }
   ],
   "source": [
    "type(r)"
   ]
  },
  {
   "cell_type": "markdown",
   "id": "504ee4c3",
   "metadata": {},
   "source": [
    "# Adding Inventory"
   ]
  },
  {
   "cell_type": "code",
   "execution_count": 80,
   "id": "f168f470",
   "metadata": {},
   "outputs": [
    {
     "name": "stdout",
     "output_type": "stream",
     "text": [
      "Enter product id:2132\n",
      "Enter Name:Feast\n",
      "Enter Price:10\n",
      "Enter Qty:30\n",
      "Enter the type: Biscuit\n",
      "Enter the ExpiryDate31-dec-2021\n"
     ]
    }
   ],
   "source": [
    "prod_id = str(input(\"Enter product id:\"))\n",
    "Name = str(input(\"Enter Name:\"))\n",
    "Price = int(input(\"Enter Price:\"))\n",
    "Qty = int(input(\"Enter Qty:\"))\n",
    "Type = str(input(\"Enter the type: \"))\n",
    "ExpiryDate = str(input(\"Enter the ExpiryDate\"))\n",
    "\n",
    "record[prod_id] = {'Name': Name, 'Price': Price, 'Qty': Qty, 'Type': Type, 'ExpiryDate': ExpiryDate}\n",
    "\n",
    "js = json.dumps(record)\n",
    "\n",
    "fd = open(\"record.json\",'w')\n",
    "fd.write(js)\n",
    "fd.close()"
   ]
  },
  {
   "cell_type": "code",
   "execution_count": 81,
   "id": "92966b23",
   "metadata": {
    "scrolled": false
   },
   "outputs": [
    {
     "data": {
      "text/plain": [
       "{'2101': {'Name': 'Cadbury',\n",
       "  'Price': 50,\n",
       "  'Qty': 20,\n",
       "  'Type': 'Chocolate',\n",
       "  'ExpiryDate': '31-dec-21'},\n",
       " '2102': {'Name': 'Nestle',\n",
       "  'Price': 30,\n",
       "  'Qty': 25,\n",
       "  'Type': 'Chocolate',\n",
       "  'ExpiryDate': '31-dec-21'},\n",
       " '2103': {'Name': 'Munch',\n",
       "  'Price': 10,\n",
       "  'Qty': 30,\n",
       "  'Type': 'Chocolate',\n",
       "  'ExpiryDate': '31-dec-21'},\n",
       " '2104': {'Name': 'Milkybar',\n",
       "  'Price': 20,\n",
       "  'Qty': 20,\n",
       "  'Type': 'Chocolate',\n",
       "  'ExpiryDate': '31-dec-21'},\n",
       " '2105': {'Name': 'Dark Chocolate',\n",
       "  'Price': 50,\n",
       "  'Qty': 10,\n",
       "  'Type': 'CHocolate',\n",
       "  'ExpiryDate': '31-dec-21'},\n",
       " '2106': {'Name': 'Kitkat',\n",
       "  'Price': 10,\n",
       "  'Qty': 30,\n",
       "  'Type': 'Chocolate',\n",
       "  'ExpiryDate': '31-dec-21'},\n",
       " '2107': {'Name': 'Snickers',\n",
       "  'Price': 20,\n",
       "  'Qty': 50,\n",
       "  'Type': 'Chocolate',\n",
       "  'ExpiryDate': '31-dec-21'},\n",
       " '2108': {'Name': 'Ferrero',\n",
       "  'Price': 45,\n",
       "  'Qty': 15,\n",
       "  'Type': 'Chocolate',\n",
       "  'ExpiryDate': '31-dec-21'},\n",
       " '2110': {'Name': 'Mars',\n",
       "  'Price': 20,\n",
       "  'Qty': 35,\n",
       "  'Type': 'Chocolate',\n",
       "  'ExpiryDate': '31-dec-21'},\n",
       " '2111': {'Name': 'Thumsup',\n",
       "  'Price': 15,\n",
       "  'Qty': 45,\n",
       "  'Type': 'Soft Drink',\n",
       "  'ExpiryDate': '15-Oct-21'},\n",
       " '2112': {'Name': 'Maaza',\n",
       "  'Price': 16,\n",
       "  'Qty': 40,\n",
       "  'Type': 'Soft Drink',\n",
       "  'ExpiryDate': '15-Oct-21'},\n",
       " '2113': {'Name': 'Sprite',\n",
       "  'Price': 12,\n",
       "  'Qty': 15,\n",
       "  'Type': 'Soft Drink',\n",
       "  'ExpiryDate': '15-Oct-21'},\n",
       " '2114': {'Name': 'Limca',\n",
       "  'Price': 12,\n",
       "  'Qty': 10,\n",
       "  'Type': 'Soft Drink',\n",
       "  'ExpiryDate': '15-Oct-21'},\n",
       " '2115': {'Name': 'Pepsi',\n",
       "  'Price': 15,\n",
       "  'Qty': 30,\n",
       "  'Type': 'Soft Drink',\n",
       "  'ExpiryDate': '15-Oct-21'},\n",
       " '2116': {'Name': '7UP',\n",
       "  'Price': 12,\n",
       "  'Qty': 20,\n",
       "  'Type': 'Soft Drink',\n",
       "  'ExpiryDate': '15-Oct-21'},\n",
       " '2117': {'Name': 'Mirinda',\n",
       "  'Price': 10,\n",
       "  'Qty': 10,\n",
       "  'Type': 'Soft Drink',\n",
       "  'ExpiryDate': '15-Oct-21'},\n",
       " '2118': {'Name': 'Coca Cola',\n",
       "  'Price': 15,\n",
       "  'Qty': 30,\n",
       "  'Type': 'Soft Drink',\n",
       "  'ExpiryDate': '15-Oct-21'},\n",
       " '2119': {'Name': 'Parle G',\n",
       "  'Price': 5,\n",
       "  'Qty': 40,\n",
       "  'Type': 'Biscuit',\n",
       "  'ExpiryDate': '30-Sep-22'},\n",
       " '2120': {'Name': 'Britania',\n",
       "  'Price': 10,\n",
       "  'Qty': 30,\n",
       "  'Type': 'Biscuit',\n",
       "  'ExpiryDate': '30-Sep-22'},\n",
       " '2121': {'Name': 'Sun Feast',\n",
       "  'Price': 10,\n",
       "  'Qty': 20,\n",
       "  'Type': 'Biscuit',\n",
       "  'ExpiryDate': '30-Sep-22'},\n",
       " '2122': {'Name': '50-50',\n",
       "  'Price': 5,\n",
       "  'Qty': 30,\n",
       "  'Type': 'Biscuit',\n",
       "  'ExpiryDate': '30-Sep-22'},\n",
       " '2123': {'Name': 'Monaco',\n",
       "  'Price': 5,\n",
       "  'Qty': 10,\n",
       "  'Type': 'Biscuit',\n",
       "  'ExpiryDate': '30-Sep-22'},\n",
       " '2124': {'Name': 'CrackJack',\n",
       "  'Price': 5,\n",
       "  'Qty': 25,\n",
       "  'Type': 'Biscuit',\n",
       "  'ExpiryDate': '30-Sep-22'},\n",
       " '2125': {'Name': 'Lays',\n",
       "  'Price': 10,\n",
       "  'Qty': 100,\n",
       "  'Type': 'Chips',\n",
       "  'ExpiryDate': '31-dec-21'},\n",
       " '2126': {'Name': 'Bingo',\n",
       "  'Price': 10,\n",
       "  'Qty': 80,\n",
       "  'Type': 'Chips',\n",
       "  'ExpiryDate': '31-Mar-22'},\n",
       " '2127': {'Name': 'Boost',\n",
       "  'Price': 150,\n",
       "  'Qty': 20,\n",
       "  'Type': 'Energy Drink',\n",
       "  'ExpiryDate': '31-Mar-22'},\n",
       " '2128': {'Name': 'Horlicks',\n",
       "  'Price': 160,\n",
       "  'Qty': 20,\n",
       "  'Type': 'Energy Drink',\n",
       "  'ExpiryDate': '31-Mar-22'},\n",
       " '2129': {'Name': 'Bournvita',\n",
       "  'Price': 180,\n",
       "  'Qty': 10,\n",
       "  'Type': 'Energy Drink',\n",
       "  'ExpiryDate': '31-Mar-22'},\n",
       " '2130': {'Name': 'Complan',\n",
       "  'Price': 120,\n",
       "  'Qty': 20,\n",
       "  'Type': 'Energy Drink',\n",
       "  'ExpiryDate': '31-Mar-22'},\n",
       " '2132': {'Name': 'Feast',\n",
       "  'Price': 10,\n",
       "  'Qty': 30,\n",
       "  'Type': 'Biscuit',\n",
       "  'ExpiryDate': '31-dec-2021'}}"
      ]
     },
     "execution_count": 81,
     "metadata": {},
     "output_type": "execute_result"
    }
   ],
   "source": [
    "record"
   ]
  },
  {
   "cell_type": "code",
   "execution_count": 82,
   "id": "b7c30869",
   "metadata": {},
   "outputs": [
    {
     "data": {
      "text/plain": [
       "30"
      ]
     },
     "execution_count": 82,
     "metadata": {},
     "output_type": "execute_result"
    }
   ],
   "source": [
    "len(record)"
   ]
  },
  {
   "cell_type": "markdown",
   "id": "28dff05a",
   "metadata": {},
   "source": [
    "# Purchase"
   ]
  },
  {
   "cell_type": "code",
   "execution_count": 97,
   "id": "1c3a7b3d",
   "metadata": {},
   "outputs": [
    {
     "name": "stdout",
     "output_type": "stream",
     "text": [
      "Enter the product_Id: 2125\n",
      "Enter the quantity: 5\n",
      "***********************************\n",
      "----------------------------------- \n",
      "Product:  Lays\n",
      "Price:  10\n",
      "Billing Amount:  50\n",
      "Discount 10% on every purchase\n",
      "Enter the Bill amount: 50\n",
      "After discount, your Bill is:  45.0\n",
      "Thank You!\n"
     ]
    }
   ],
   "source": [
    "ui_prod  = str(input(\"Enter the product_Id: \"))\n",
    "ui_quant = int(input(\"Enter the quantity: \"))\n",
    "\n",
    "print(\"***********************************\")\n",
    "print(\"----------------------------------- \")\n",
    "print(\"Product: \", record[ui_prod]['Name'])\n",
    "print(\"Price: \", record[ui_prod]['Price'])\n",
    "print(\"Billing Amount: \", record[ui_prod]['Price'] * ui_quant)\n",
    "\n",
    "\n",
    "print(\"Discount 10% on every purchase\")\n",
    "Bill = int(input(\"Enter the Bill amount: \"))\n",
    "Output = Bill - (Bill * 10/100)\n",
    "print(\"After discount, your Bill is: \", Output)\n",
    "\n",
    "if (ui_quant <= 0):\n",
    "    print(\"Please enter valid qty!\")\n",
    "    \n",
    "if (ui_quant >= 0):\n",
    "    print(\"Thank You!\")\n",
    "    \n",
    "\n",
    "record[ui_prod]['Qty'] = record[ui_prod]['Qty'] - ui_quant"
   ]
  },
  {
   "cell_type": "markdown",
   "id": "01ad8c9d",
   "metadata": {},
   "source": [
    "# Updating Purchase"
   ]
  },
  {
   "cell_type": "code",
   "execution_count": 98,
   "id": "d1359add",
   "metadata": {},
   "outputs": [
    {
     "name": "stdout",
     "output_type": "stream",
     "text": [
      "95\n"
     ]
    }
   ],
   "source": [
    "print(record[ui_prod]['Qty'])"
   ]
  },
  {
   "cell_type": "code",
   "execution_count": 99,
   "id": "e5f7d0b3",
   "metadata": {},
   "outputs": [],
   "source": [
    "js = json.dumps(record)\n",
    "\n",
    "fd = open(\"record.json\",'w')\n",
    "fd.write(js)\n",
    "fd.close()"
   ]
  },
  {
   "cell_type": "markdown",
   "id": "33356326",
   "metadata": {},
   "source": [
    "# Sales"
   ]
  },
  {
   "cell_type": "code",
   "execution_count": 100,
   "id": "bf4b6551",
   "metadata": {},
   "outputs": [],
   "source": [
    "sales = { 1 : {'name' : Name, 'category' : Type, 'product' : ui_prod, 'Qty' : ui_quant, 'amount': record[ui_prod]['Price'] * ui_quant, 'Expiry': ExpiryDate},\n",
    "          2 : {'name' : Name, 'category' : Type, 'product' : ui_prod, 'Qty' : ui_quant, 'amount': record[ui_prod]['Price'] * ui_quant, 'Expiry': ExpiryDate},\n",
    "          3 : {'name' : Name, 'category' : Type, 'product' : ui_prod, 'Qty' : ui_quant, 'amount': record[ui_prod]['Price'] * ui_quant, 'Expiry': ExpiryDate},\n",
    "          4 : {'name' : Name, 'category' : Type, 'product' : ui_prod, 'Qty' : ui_quant, 'amount': record[ui_prod]['Price'] * ui_quant, 'Expiry': ExpiryDate},\n",
    "          5 : {'name' : Name, 'category' : Type, 'product' : ui_prod, 'Qty' : ui_quant, 'amount': record[ui_prod]['Price'] * ui_quant, 'Expiry': ExpiryDate}}"
   ]
  },
  {
   "cell_type": "code",
   "execution_count": 101,
   "id": "47cf1ab5",
   "metadata": {},
   "outputs": [],
   "source": [
    "sale = json.dumps(sales)"
   ]
  },
  {
   "cell_type": "code",
   "execution_count": 102,
   "id": "f3c9a977",
   "metadata": {},
   "outputs": [],
   "source": [
    "fd = open(\"sales.json\",\"w\")\n",
    "r = fd.write(sale)\n",
    "fd.close()"
   ]
  },
  {
   "cell_type": "code",
   "execution_count": 103,
   "id": "c3668e70",
   "metadata": {},
   "outputs": [
    {
     "data": {
      "text/plain": [
       "{6: {'product': '2125', 'Qty': 5, 'amount': 50}}"
      ]
     },
     "execution_count": 103,
     "metadata": {},
     "output_type": "execute_result"
    }
   ],
   "source": [
    "{((len(sales)+1)): {'product' : ui_prod, 'Qty' : ui_quant, 'amount': record[ui_prod]['Price'] * ui_quant}}"
   ]
  },
  {
   "cell_type": "code",
   "execution_count": 104,
   "id": "a701c2b3",
   "metadata": {},
   "outputs": [],
   "source": [
    "sales[len(sales)] = {'name' : Name, 'category' : Type, 'product' : ui_prod, 'Qty' : ui_quant, 'amount': record[ui_prod]['Price'] * ui_quant, 'Expiry': ExpiryDate}"
   ]
  },
  {
   "cell_type": "code",
   "execution_count": 105,
   "id": "9aa9c26c",
   "metadata": {},
   "outputs": [
    {
     "data": {
      "text/plain": [
       "{1: {'name': 'Feast',\n",
       "  'category': 'Biscuit',\n",
       "  'product': '2125',\n",
       "  'Qty': 5,\n",
       "  'amount': 50,\n",
       "  'Expiry': '31-dec-2021'},\n",
       " 2: {'name': 'Feast',\n",
       "  'category': 'Biscuit',\n",
       "  'product': '2125',\n",
       "  'Qty': 5,\n",
       "  'amount': 50,\n",
       "  'Expiry': '31-dec-2021'},\n",
       " 3: {'name': 'Feast',\n",
       "  'category': 'Biscuit',\n",
       "  'product': '2125',\n",
       "  'Qty': 5,\n",
       "  'amount': 50,\n",
       "  'Expiry': '31-dec-2021'},\n",
       " 4: {'name': 'Feast',\n",
       "  'category': 'Biscuit',\n",
       "  'product': '2125',\n",
       "  'Qty': 5,\n",
       "  'amount': 50,\n",
       "  'Expiry': '31-dec-2021'},\n",
       " 5: {'name': 'Feast',\n",
       "  'category': 'Biscuit',\n",
       "  'product': '2125',\n",
       "  'Qty': 5,\n",
       "  'amount': 50,\n",
       "  'Expiry': '31-dec-2021'}}"
      ]
     },
     "execution_count": 105,
     "metadata": {},
     "output_type": "execute_result"
    }
   ],
   "source": [
    "sales"
   ]
  },
  {
   "cell_type": "markdown",
   "id": "7fc1fbea",
   "metadata": {},
   "source": [
    "# Checking key, values of records"
   ]
  },
  {
   "cell_type": "code",
   "execution_count": 106,
   "id": "d6eb27af",
   "metadata": {},
   "outputs": [
    {
     "data": {
      "text/plain": [
       "dict_keys(['2101', '2102', '2103', '2104', '2105', '2106', '2107', '2108', '2110', '2111', '2112', '2113', '2114', '2115', '2116', '2117', '2118', '2119', '2120', '2121', '2122', '2123', '2124', '2125', '2126', '2127', '2128', '2129', '2130', '2132'])"
      ]
     },
     "execution_count": 106,
     "metadata": {},
     "output_type": "execute_result"
    }
   ],
   "source": [
    "record.keys()"
   ]
  },
  {
   "cell_type": "code",
   "execution_count": 107,
   "id": "c33a65cb",
   "metadata": {},
   "outputs": [
    {
     "data": {
      "text/plain": [
       "dict_values([{'Name': 'Cadbury', 'Price': 50, 'Qty': 20, 'Type': 'Chocolate', 'ExpiryDate': '31-dec-21'}, {'Name': 'Nestle', 'Price': 30, 'Qty': 25, 'Type': 'Chocolate', 'ExpiryDate': '31-dec-21'}, {'Name': 'Munch', 'Price': 10, 'Qty': 30, 'Type': 'Chocolate', 'ExpiryDate': '31-dec-21'}, {'Name': 'Milkybar', 'Price': 20, 'Qty': 20, 'Type': 'Chocolate', 'ExpiryDate': '31-dec-21'}, {'Name': 'Dark Chocolate', 'Price': 50, 'Qty': 10, 'Type': 'CHocolate', 'ExpiryDate': '31-dec-21'}, {'Name': 'Kitkat', 'Price': 10, 'Qty': 30, 'Type': 'Chocolate', 'ExpiryDate': '31-dec-21'}, {'Name': 'Snickers', 'Price': 20, 'Qty': 50, 'Type': 'Chocolate', 'ExpiryDate': '31-dec-21'}, {'Name': 'Ferrero', 'Price': 45, 'Qty': 15, 'Type': 'Chocolate', 'ExpiryDate': '31-dec-21'}, {'Name': 'Mars', 'Price': 20, 'Qty': 35, 'Type': 'Chocolate', 'ExpiryDate': '31-dec-21'}, {'Name': 'Thumsup', 'Price': 15, 'Qty': 45, 'Type': 'Soft Drink', 'ExpiryDate': '15-Oct-21'}, {'Name': 'Maaza', 'Price': 16, 'Qty': 40, 'Type': 'Soft Drink', 'ExpiryDate': '15-Oct-21'}, {'Name': 'Sprite', 'Price': 12, 'Qty': 15, 'Type': 'Soft Drink', 'ExpiryDate': '15-Oct-21'}, {'Name': 'Limca', 'Price': 12, 'Qty': 10, 'Type': 'Soft Drink', 'ExpiryDate': '15-Oct-21'}, {'Name': 'Pepsi', 'Price': 15, 'Qty': 30, 'Type': 'Soft Drink', 'ExpiryDate': '15-Oct-21'}, {'Name': '7UP', 'Price': 12, 'Qty': 20, 'Type': 'Soft Drink', 'ExpiryDate': '15-Oct-21'}, {'Name': 'Mirinda', 'Price': 10, 'Qty': 10, 'Type': 'Soft Drink', 'ExpiryDate': '15-Oct-21'}, {'Name': 'Coca Cola', 'Price': 15, 'Qty': 30, 'Type': 'Soft Drink', 'ExpiryDate': '15-Oct-21'}, {'Name': 'Parle G', 'Price': 5, 'Qty': 40, 'Type': 'Biscuit', 'ExpiryDate': '30-Sep-22'}, {'Name': 'Britania', 'Price': 10, 'Qty': 30, 'Type': 'Biscuit', 'ExpiryDate': '30-Sep-22'}, {'Name': 'Sun Feast', 'Price': 10, 'Qty': 15, 'Type': 'Biscuit', 'ExpiryDate': '30-Sep-22'}, {'Name': '50-50', 'Price': 5, 'Qty': 30, 'Type': 'Biscuit', 'ExpiryDate': '30-Sep-22'}, {'Name': 'Monaco', 'Price': 5, 'Qty': 10, 'Type': 'Biscuit', 'ExpiryDate': '30-Sep-22'}, {'Name': 'CrackJack', 'Price': 5, 'Qty': 25, 'Type': 'Biscuit', 'ExpiryDate': '30-Sep-22'}, {'Name': 'Lays', 'Price': 10, 'Qty': 95, 'Type': 'Chips', 'ExpiryDate': '31-dec-21'}, {'Name': 'Bingo', 'Price': 10, 'Qty': 80, 'Type': 'Chips', 'ExpiryDate': '31-Mar-22'}, {'Name': 'Boost', 'Price': 150, 'Qty': 20, 'Type': 'Energy Drink', 'ExpiryDate': '31-Mar-22'}, {'Name': 'Horlicks', 'Price': 160, 'Qty': 20, 'Type': 'Energy Drink', 'ExpiryDate': '31-Mar-22'}, {'Name': 'Bournvita', 'Price': 180, 'Qty': 10, 'Type': 'Energy Drink', 'ExpiryDate': '31-Mar-22'}, {'Name': 'Complan', 'Price': 120, 'Qty': 20, 'Type': 'Energy Drink', 'ExpiryDate': '31-Mar-22'}, {'Name': 'Feast', 'Price': 10, 'Qty': 30, 'Type': 'Biscuit', 'ExpiryDate': '31-dec-2021'}])"
      ]
     },
     "execution_count": 107,
     "metadata": {},
     "output_type": "execute_result"
    }
   ],
   "source": [
    "record.values()"
   ]
  },
  {
   "cell_type": "code",
   "execution_count": null,
   "id": "faf49588",
   "metadata": {},
   "outputs": [],
   "source": []
  }
 ],
 "metadata": {
  "kernelspec": {
   "display_name": "Python 3",
   "language": "python",
   "name": "python3"
  },
  "language_info": {
   "codemirror_mode": {
    "name": "ipython",
    "version": 3
   },
   "file_extension": ".py",
   "mimetype": "text/x-python",
   "name": "python",
   "nbconvert_exporter": "python",
   "pygments_lexer": "ipython3",
   "version": "3.8.8"
  }
 },
 "nbformat": 4,
 "nbformat_minor": 5
}
